{
 "cells": [
  {
   "cell_type": "markdown",
   "metadata": {},
   "source": [
    "# Scraper to scrape the news from BBC"
   ]
  },
  {
   "cell_type": "code",
   "execution_count": 58,
   "metadata": {},
   "outputs": [
    {
     "name": "stdout",
     "output_type": "stream",
     "text": [
      "<class 'bs4.element.ResultSet'>\n",
      "/news/world-asia-48062071\n",
      "/news/world-asia-48051166\n",
      "/news/world-asia-41174689\n",
      "/news/world-africa-48050859\n",
      "/news/world-us-canada-47601125\n",
      "/news/world-asia-48059328\n",
      "/news/world-us-canada-48060187\n",
      "/news/world-us-canada-47861444\n",
      "/news/uk-48061257\n",
      "/news/world-us-canada-48059680\n",
      "/news/world-europe-48059068\n",
      "/news/world-us-canada-48055273\n",
      "/news/world-europe-48061407\n",
      "/news/world-australia-48056938\n",
      "/news/world-europe-48059063\n",
      "/news/business-48058276\n",
      "['/news/world-asia-48062071', '/news/world-asia-48051166', '/news/world-asia-41174689', '/news/world-africa-48050859', '/news/world-us-canada-47601125', '/news/world-asia-48059328', '/news/world-us-canada-48060187', '/news/world-us-canada-47861444', '/news/uk-48061257', '/news/world-us-canada-48059680', '/news/world-europe-48059068', '/news/world-us-canada-48055273', '/news/world-europe-48061407', '/news/world-australia-48056938', '/news/world-europe-48059063', '/news/business-48058276']\n"
     ]
    }
   ],
   "source": [
    "from bs4 import BeautifulSoup\n",
    "import requests\n",
    " \n",
    "url = \"http://www.bbc.com/news\"\n",
    " \n",
    "# Getting the webpage, creating a Response object.\n",
    "response = requests.get(url)\n",
    " \n",
    "# Extracting the source code of the page.\n",
    "data = response.text\n",
    " \n",
    "# Passing the source code to BeautifulSoup to create a BeautifulSoup object for it.\n",
    "soup = BeautifulSoup(data, 'lxml')\n",
    "\n",
    "#container = soup.find(\"div\", id = \"u4223071673798733\")\n",
    "contain = soup.find(\"div\", class_ = \"gel-wrap gs-u-pt+\")\n",
    "\n",
    "\n",
    " \n",
    "# Extracting all the <a> tags into a list.\n",
    "tags = contain.find_all('a')\n",
    "print(type(tags))\n",
    "urllist=[] \n",
    "# Extracting URLs from the attribute href in the <a> tags.\n",
    "for tag in tags:\n",
    "    abc=tag.get('href')\n",
    "    if(abc not in urllist):\n",
    "        index = abc.rfind('-')\n",
    "        if abc[index+1:].isdigit():\n",
    "            urllist.append(abc)\n",
    "for a in urllist:\n",
    "    print(a)\n",
    "print(urllist)"
   ]
  },
  {
   "cell_type": "code",
   "execution_count": 59,
   "metadata": {
    "scrolled": true
   },
   "outputs": [
    {
     "name": "stdout",
     "output_type": "stream",
     "text": [
      "['http://www.bbc.com/news/world-asia-48062071', 'http://www.bbc.com/news/world-asia-48051166', 'http://www.bbc.com/news/world-asia-41174689', 'http://www.bbc.com/news/world-africa-48050859', 'http://www.bbc.com/news/world-us-canada-47601125', 'http://www.bbc.com/news/world-asia-48059328', 'http://www.bbc.com/news/world-us-canada-48060187', 'http://www.bbc.com/news/world-us-canada-47861444', 'http://www.bbc.com/news/uk-48061257', 'http://www.bbc.com/news/world-us-canada-48059680', 'http://www.bbc.com/news/world-europe-48059068', 'http://www.bbc.com/news/world-us-canada-48055273', 'http://www.bbc.com/news/world-europe-48061407', 'http://www.bbc.com/news/world-australia-48056938', 'http://www.bbc.com/news/world-europe-48059063', 'http://www.bbc.com/news/business-48058276']\n"
     ]
    }
   ],
   "source": [
    "#appending the urllinks of the top news present in the BBC\n",
    "urllink = []\n",
    "for b in range(0,len(urllist)):\n",
    "    urllink.append('http://www.bbc.com' + urllist[b])\n",
    "print(urllink)"
   ]
  },
  {
   "cell_type": "code",
   "execution_count": 98,
   "metadata": {},
   "outputs": [
    {
     "name": "stdout",
     "output_type": "stream",
     "text": [
      "http://www.bbc.com/news/world-asia-48062071\n",
      "North Korea summit: Kim accuses US of 'bad faith'\n",
      "http://www.bbc.com/news/world-asia-48051166\n",
      "http://www.bbc.com/news/world-asia-41174689\n",
      "North Korea's missile and nuclear programme\n",
      "http://www.bbc.com/news/world-africa-48050859\n",
      "Cyclone Kenneth: Storm-battered Mozambique hit again\n",
      "http://www.bbc.com/news/world-us-canada-47601125\n",
      "US election 2020: Joe Biden launches presidential bid, joining crowded field\n",
      "http://www.bbc.com/news/world-asia-48059328\n",
      "Sri Lanka attacks: Death toll revised down by 'about 100'\n",
      "http://www.bbc.com/news/world-us-canada-48060187\n",
      "US judge charged with aiding undocumented immigrant in escape\n",
      "http://www.bbc.com/news/world-us-canada-47861444\n",
      "How the US military's opium war in Afghanistan was lost\n",
      "http://www.bbc.com/news/uk-48061257\n",
      "http://www.bbc.com/news/world-us-canada-48059680\n",
      "North Korea 'demanded $2m for care of Otto Warmbier'\n",
      "http://www.bbc.com/news/world-europe-48059068\n",
      "Cyprus: Man confesses to killing seven women and girls\n",
      "http://www.bbc.com/news/world-us-canada-48055273\n",
      "Catherine Pugh: Federal agents raid Baltimore mayor's home\n",
      "http://www.bbc.com/news/world-europe-48061407\n",
      "http://www.bbc.com/news/world-australia-48056938\n",
      "Handsome Her: Australian vegan café to close after ‘man tax’ furore\n",
      "http://www.bbc.com/news/world-europe-48059063\n",
      "France's Macron responds to yellow vests with promise of reforms\n",
      "http://www.bbc.com/news/business-48058276\n",
      "Amazon plans to slash delivery times\n"
     ]
    }
   ],
   "source": [
    "#scraping title for each of the top news \n",
    "for c in urllink:\n",
    "    print(c)\n",
    "    response = requests.get(c)\n",
    "    # Extracting the source code of the page.\n",
    "    data = response.text\n",
    "    # Passing the source code to BeautifulSoup to create a BeautifulSoup object for it.\n",
    "    soup = BeautifulSoup(data, 'lxml')\n",
    "    title = soup.find(\"div\", id = \"orb-modules\")\n",
    "    t = title.find(\"div\", class_ =\"story-body\")\n",
    "    for w in title.find_all(\"h1\", class_ = \"story-body__h1\"):\n",
    "        print(w.text)"
   ]
  }
 ],
 "metadata": {
  "kernelspec": {
   "display_name": "Python 3",
   "language": "python",
   "name": "python3"
  },
  "language_info": {
   "codemirror_mode": {
    "name": "ipython",
    "version": 3
   },
   "file_extension": ".py",
   "mimetype": "text/x-python",
   "name": "python",
   "nbconvert_exporter": "python",
   "pygments_lexer": "ipython3",
   "version": "3.7.0"
  }
 },
 "nbformat": 4,
 "nbformat_minor": 2
}
